{
 "cells": [
  {
   "cell_type": "markdown",
   "metadata": {},
   "source": [
    "## 1.1 Section Overview"
   ]
  },
  {
   "attachments": {},
   "cell_type": "markdown",
   "metadata": {},
   "source": [
    "**NumPy**\n",
    "\n",
    "* Numerical Python\n",
    "\n",
    "* Behind the scenes optimizations written in `C`\n",
    "\n",
    "* Vectorization via Broadcasting (avoiding loops)\n",
    "\n",
    "* Backbone of scientific and numerical computing in Python (scikit-learn, matplotlib, and pandas).\n",
    "\n",
    "* Converts data into a form that can be used by the machine learning."
   ]
  },
  {
   "cell_type": "markdown",
   "metadata": {},
   "source": [
    "**Why do we use Numpy?**\n",
    "\n",
    "* _Numpy operations on arrays and lists are much faster than on Python._  \n",
    "Machine learning requires a lot of computation, and processing large amounts of data.  \n",
    "\n",
    "* _Numpy is a library that is written in C code._  \n",
    "C is generally going to be faster than Python.  \n",
    "C is a compiled language, which means that the code gets translated into machine code before running instead of at runtime like Python.  \n",
    "C skips the extra step of interpretation that Python programs have to run significantly faster.  \n",
    "\n",
    "* _Machines only understand 1s and 0s._  \n",
    "Numpy is a library that makes it easy to work with 1s and 0s.  \n",
    "Numpy forms the foundation to convert data into a form that can be used by the machine learning algorithm.  \n",
    "\n",
    "* _Vectorization via broadcastind (avoiding loops)_  \n",
    "Vectorization is the process of converting a loop into a vectorized form.\n",
    "Vectorization aims to do calculations by avoiding loops as loops can create potential bottlenecks.\n",
    "NumPy achieves this by using the broadcasting feature of numpy.\n",
    "\n",
    "* _Backbone of other Python scientific packages._  \n",
    "Numpy is the backbone of other Python scientific packages.  \n",
    "Numpy is used by scikit-learn, matplotlib, and pandas.  "
   ]
  },
  {
   "cell_type": "markdown",
   "metadata": {},
   "source": [
    "**What are we going to cover in this section?**\n",
    "* Most useful functions\n",
    "* NumPy data types & attributes (ndarray)\n",
    "* Creating arrays\n",
    "* Viewing arrays & matricies\n",
    "* Manipulating & comparing arrays\n",
    "* Sorting arrays\n",
    "* Use case"
   ]
  }
 ],
 "metadata": {
  "kernelspec": {
   "display_name": "Python 3",
   "language": "python",
   "name": "python3"
  },
  "language_info": {
   "name": "python",
   "version": "3.9.7"
  },
  "orig_nbformat": 4,
  "vscode": {
   "interpreter": {
    "hash": "aee8b7b246df8f9039afb4144a1f6fd8d2ca17a180786b69acc140d282b71a49"
   }
  }
 },
 "nbformat": 4,
 "nbformat_minor": 2
}
