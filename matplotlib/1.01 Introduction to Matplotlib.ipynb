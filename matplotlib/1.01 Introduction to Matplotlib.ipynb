{
 "cells": [
  {
   "cell_type": "markdown",
   "metadata": {},
   "source": [
    "## 1.01 Introduction to Matplotlib"
   ]
  },
  {
   "cell_type": "markdown",
   "metadata": {},
   "source": [
    "Matplotlib is a python plotting library that allows us to turn data into plots/figures."
   ]
  },
  {
   "cell_type": "markdown",
   "metadata": {},
   "source": [
    "Why Matplotllib?\n",
    "* Built on NumPy arrays (and Python)\n",
    "* Integrates directly with Pandas\n",
    "* Can create basic or advanced plots\n",
    "* Simple to use interface"
   ]
  },
  {
   "cell_type": "markdown",
   "metadata": {},
   "source": [
    "What are we going to cover?\n",
    "* Matplotlib workflow\n",
    "* Importing Matplotlib and the two ways of plotting\n",
    "* Plotting data from pandas DataFrames\n",
    "* Customizing plots\n",
    "* Saving and sharing plots"
   ]
  },
  {
   "cell_type": "markdown",
   "metadata": {},
   "source": [
    "Matplotlib Workflow Diagram\n",
    "\n",
    "<img src=\"matplotlib-workflow.png\" alt=\"matplotlib workflow diagram\" height=\"200\">"
   ]
  }
 ],
 "metadata": {
  "kernelspec": {
   "display_name": "Python 3",
   "language": "python",
   "name": "python3"
  },
  "language_info": {
   "codemirror_mode": {
    "name": "ipython",
    "version": 3
   },
   "file_extension": ".py",
   "mimetype": "text/x-python",
   "name": "python",
   "nbconvert_exporter": "python",
   "pygments_lexer": "ipython3",
   "version": "3.9.7"
  },
  "vscode": {
   "interpreter": {
    "hash": "aee8b7b246df8f9039afb4144a1f6fd8d2ca17a180786b69acc140d282b71a49"
   }
  }
 },
 "nbformat": 4,
 "nbformat_minor": 2
}
