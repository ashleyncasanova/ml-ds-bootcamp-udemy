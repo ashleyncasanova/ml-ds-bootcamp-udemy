{
 "cells": [
  {
   "cell_type": "markdown",
   "metadata": {},
   "source": [
    "### <mark >4. Evaluating our Model</mark>\n",
    "\n",
    "***Three ways to evaluate scikit-learn models/ estimators:***\n",
    "1. Estimator `score()` method\n",
    "2. The `scoring` parameter\n",
    "3. Problem-specific metric functions\n",
    "\n",
    ">Note: See [here](https://scikit-learn.org/stable/modules/model_evaluation.html) for more info."
   ]
  },
  {
   "cell_type": "markdown",
   "metadata": {},
   "source": [
    "Let's import our classification and regression datasets here so we can run our tests below...\n",
    "\n",
    ">Note: Using uppercase `X` and `Y` for classification model and lowercase `x` and `y` for regression. This is not the convention but it will make everything run smoothly in one notebook."
   ]
  },
  {
   "cell_type": "code",
   "execution_count": 4,
   "metadata": {},
   "outputs": [],
   "source": [
    "# Standard imports\n",
    "import pandas as pd\n",
    "import numpy as np\n",
    "import matplotlib.pyplot as plt\n",
    "%matplotlib inline"
   ]
  },
  {
   "cell_type": "code",
   "execution_count": 5,
   "metadata": {},
   "outputs": [
    {
     "data": {
      "text/html": [
       "<style>#sk-container-id-1 {color: black;}#sk-container-id-1 pre{padding: 0;}#sk-container-id-1 div.sk-toggleable {background-color: white;}#sk-container-id-1 label.sk-toggleable__label {cursor: pointer;display: block;width: 100%;margin-bottom: 0;padding: 0.3em;box-sizing: border-box;text-align: center;}#sk-container-id-1 label.sk-toggleable__label-arrow:before {content: \"▸\";float: left;margin-right: 0.25em;color: #696969;}#sk-container-id-1 label.sk-toggleable__label-arrow:hover:before {color: black;}#sk-container-id-1 div.sk-estimator:hover label.sk-toggleable__label-arrow:before {color: black;}#sk-container-id-1 div.sk-toggleable__content {max-height: 0;max-width: 0;overflow: hidden;text-align: left;background-color: #f0f8ff;}#sk-container-id-1 div.sk-toggleable__content pre {margin: 0.2em;color: black;border-radius: 0.25em;background-color: #f0f8ff;}#sk-container-id-1 input.sk-toggleable__control:checked~div.sk-toggleable__content {max-height: 200px;max-width: 100%;overflow: auto;}#sk-container-id-1 input.sk-toggleable__control:checked~label.sk-toggleable__label-arrow:before {content: \"▾\";}#sk-container-id-1 div.sk-estimator input.sk-toggleable__control:checked~label.sk-toggleable__label {background-color: #d4ebff;}#sk-container-id-1 div.sk-label input.sk-toggleable__control:checked~label.sk-toggleable__label {background-color: #d4ebff;}#sk-container-id-1 input.sk-hidden--visually {border: 0;clip: rect(1px 1px 1px 1px);clip: rect(1px, 1px, 1px, 1px);height: 1px;margin: -1px;overflow: hidden;padding: 0;position: absolute;width: 1px;}#sk-container-id-1 div.sk-estimator {font-family: monospace;background-color: #f0f8ff;border: 1px dotted black;border-radius: 0.25em;box-sizing: border-box;margin-bottom: 0.5em;}#sk-container-id-1 div.sk-estimator:hover {background-color: #d4ebff;}#sk-container-id-1 div.sk-parallel-item::after {content: \"\";width: 100%;border-bottom: 1px solid gray;flex-grow: 1;}#sk-container-id-1 div.sk-label:hover label.sk-toggleable__label {background-color: #d4ebff;}#sk-container-id-1 div.sk-serial::before {content: \"\";position: absolute;border-left: 1px solid gray;box-sizing: border-box;top: 0;bottom: 0;left: 50%;z-index: 0;}#sk-container-id-1 div.sk-serial {display: flex;flex-direction: column;align-items: center;background-color: white;padding-right: 0.2em;padding-left: 0.2em;position: relative;}#sk-container-id-1 div.sk-item {position: relative;z-index: 1;}#sk-container-id-1 div.sk-parallel {display: flex;align-items: stretch;justify-content: center;background-color: white;position: relative;}#sk-container-id-1 div.sk-item::before, #sk-container-id-1 div.sk-parallel-item::before {content: \"\";position: absolute;border-left: 1px solid gray;box-sizing: border-box;top: 0;bottom: 0;left: 50%;z-index: -1;}#sk-container-id-1 div.sk-parallel-item {display: flex;flex-direction: column;z-index: 1;position: relative;background-color: white;}#sk-container-id-1 div.sk-parallel-item:first-child::after {align-self: flex-end;width: 50%;}#sk-container-id-1 div.sk-parallel-item:last-child::after {align-self: flex-start;width: 50%;}#sk-container-id-1 div.sk-parallel-item:only-child::after {width: 0;}#sk-container-id-1 div.sk-dashed-wrapped {border: 1px dashed gray;margin: 0 0.4em 0.5em 0.4em;box-sizing: border-box;padding-bottom: 0.4em;background-color: white;}#sk-container-id-1 div.sk-label label {font-family: monospace;font-weight: bold;display: inline-block;line-height: 1.2em;}#sk-container-id-1 div.sk-label-container {text-align: center;}#sk-container-id-1 div.sk-container {/* jupyter's `normalize.less` sets `[hidden] { display: none; }` but bootstrap.min.css set `[hidden] { display: none !important; }` so we also need the `!important` here to be able to override the default hidden behavior on the sphinx rendered scikit-learn.org. See: https://github.com/scikit-learn/scikit-learn/issues/21755 */display: inline-block !important;position: relative;}#sk-container-id-1 div.sk-text-repr-fallback {display: none;}</style><div id=\"sk-container-id-1\" class=\"sk-top-container\"><div class=\"sk-text-repr-fallback\"><pre>RandomForestClassifier()</pre><b>In a Jupyter environment, please rerun this cell to show the HTML representation or trust the notebook. <br />On GitHub, the HTML representation is unable to render, please try loading this page with nbviewer.org.</b></div><div class=\"sk-container\" hidden><div class=\"sk-item\"><div class=\"sk-estimator sk-toggleable\"><input class=\"sk-toggleable__control sk-hidden--visually\" id=\"sk-estimator-id-1\" type=\"checkbox\" checked><label for=\"sk-estimator-id-1\" class=\"sk-toggleable__label sk-toggleable__label-arrow\">RandomForestClassifier</label><div class=\"sk-toggleable__content\"><pre>RandomForestClassifier()</pre></div></div></div></div></div>"
      ],
      "text/plain": [
       "RandomForestClassifier()"
      ]
     },
     "execution_count": 5,
     "metadata": {},
     "output_type": "execute_result"
    }
   ],
   "source": [
    "# Let's create a classification model for our heart disease dataset\n",
    "from sklearn.ensemble import RandomForestClassifier\n",
    "from sklearn.model_selection import train_test_split\n",
    "\n",
    "np.random.seed(42)\n",
    "\n",
    "heart_disease = pd.read_csv(\"data/heart-disease.csv\")\n",
    "\n",
    "X = heart_disease.drop('target', axis=1)\n",
    "Y = heart_disease['target']\n",
    "\n",
    "X_train, X_test, Y_train, Y_test = train_test_split(X, Y, test_size=0.2)\n",
    "\n",
    "clf = RandomForestClassifier()\n",
    "clf.fit(X_train, Y_train)"
   ]
  },
  {
   "cell_type": "code",
   "execution_count": 3,
   "metadata": {},
   "outputs": [
    {
     "data": {
      "text/html": [
       "<style>#sk-container-id-2 {color: black;}#sk-container-id-2 pre{padding: 0;}#sk-container-id-2 div.sk-toggleable {background-color: white;}#sk-container-id-2 label.sk-toggleable__label {cursor: pointer;display: block;width: 100%;margin-bottom: 0;padding: 0.3em;box-sizing: border-box;text-align: center;}#sk-container-id-2 label.sk-toggleable__label-arrow:before {content: \"▸\";float: left;margin-right: 0.25em;color: #696969;}#sk-container-id-2 label.sk-toggleable__label-arrow:hover:before {color: black;}#sk-container-id-2 div.sk-estimator:hover label.sk-toggleable__label-arrow:before {color: black;}#sk-container-id-2 div.sk-toggleable__content {max-height: 0;max-width: 0;overflow: hidden;text-align: left;background-color: #f0f8ff;}#sk-container-id-2 div.sk-toggleable__content pre {margin: 0.2em;color: black;border-radius: 0.25em;background-color: #f0f8ff;}#sk-container-id-2 input.sk-toggleable__control:checked~div.sk-toggleable__content {max-height: 200px;max-width: 100%;overflow: auto;}#sk-container-id-2 input.sk-toggleable__control:checked~label.sk-toggleable__label-arrow:before {content: \"▾\";}#sk-container-id-2 div.sk-estimator input.sk-toggleable__control:checked~label.sk-toggleable__label {background-color: #d4ebff;}#sk-container-id-2 div.sk-label input.sk-toggleable__control:checked~label.sk-toggleable__label {background-color: #d4ebff;}#sk-container-id-2 input.sk-hidden--visually {border: 0;clip: rect(1px 1px 1px 1px);clip: rect(1px, 1px, 1px, 1px);height: 1px;margin: -1px;overflow: hidden;padding: 0;position: absolute;width: 1px;}#sk-container-id-2 div.sk-estimator {font-family: monospace;background-color: #f0f8ff;border: 1px dotted black;border-radius: 0.25em;box-sizing: border-box;margin-bottom: 0.5em;}#sk-container-id-2 div.sk-estimator:hover {background-color: #d4ebff;}#sk-container-id-2 div.sk-parallel-item::after {content: \"\";width: 100%;border-bottom: 1px solid gray;flex-grow: 1;}#sk-container-id-2 div.sk-label:hover label.sk-toggleable__label {background-color: #d4ebff;}#sk-container-id-2 div.sk-serial::before {content: \"\";position: absolute;border-left: 1px solid gray;box-sizing: border-box;top: 0;bottom: 0;left: 50%;z-index: 0;}#sk-container-id-2 div.sk-serial {display: flex;flex-direction: column;align-items: center;background-color: white;padding-right: 0.2em;padding-left: 0.2em;position: relative;}#sk-container-id-2 div.sk-item {position: relative;z-index: 1;}#sk-container-id-2 div.sk-parallel {display: flex;align-items: stretch;justify-content: center;background-color: white;position: relative;}#sk-container-id-2 div.sk-item::before, #sk-container-id-2 div.sk-parallel-item::before {content: \"\";position: absolute;border-left: 1px solid gray;box-sizing: border-box;top: 0;bottom: 0;left: 50%;z-index: -1;}#sk-container-id-2 div.sk-parallel-item {display: flex;flex-direction: column;z-index: 1;position: relative;background-color: white;}#sk-container-id-2 div.sk-parallel-item:first-child::after {align-self: flex-end;width: 50%;}#sk-container-id-2 div.sk-parallel-item:last-child::after {align-self: flex-start;width: 50%;}#sk-container-id-2 div.sk-parallel-item:only-child::after {width: 0;}#sk-container-id-2 div.sk-dashed-wrapped {border: 1px dashed gray;margin: 0 0.4em 0.5em 0.4em;box-sizing: border-box;padding-bottom: 0.4em;background-color: white;}#sk-container-id-2 div.sk-label label {font-family: monospace;font-weight: bold;display: inline-block;line-height: 1.2em;}#sk-container-id-2 div.sk-label-container {text-align: center;}#sk-container-id-2 div.sk-container {/* jupyter's `normalize.less` sets `[hidden] { display: none; }` but bootstrap.min.css set `[hidden] { display: none !important; }` so we also need the `!important` here to be able to override the default hidden behavior on the sphinx rendered scikit-learn.org. See: https://github.com/scikit-learn/scikit-learn/issues/21755 */display: inline-block !important;position: relative;}#sk-container-id-2 div.sk-text-repr-fallback {display: none;}</style><div id=\"sk-container-id-2\" class=\"sk-top-container\"><div class=\"sk-text-repr-fallback\"><pre>RandomForestRegressor()</pre><b>In a Jupyter environment, please rerun this cell to show the HTML representation or trust the notebook. <br />On GitHub, the HTML representation is unable to render, please try loading this page with nbviewer.org.</b></div><div class=\"sk-container\" hidden><div class=\"sk-item\"><div class=\"sk-estimator sk-toggleable\"><input class=\"sk-toggleable__control sk-hidden--visually\" id=\"sk-estimator-id-2\" type=\"checkbox\" checked><label for=\"sk-estimator-id-2\" class=\"sk-toggleable__label sk-toggleable__label-arrow\">RandomForestRegressor</label><div class=\"sk-toggleable__content\"><pre>RandomForestRegressor()</pre></div></div></div></div></div>"
      ],
      "text/plain": [
       "RandomForestRegressor()"
      ]
     },
     "execution_count": 3,
     "metadata": {},
     "output_type": "execute_result"
    }
   ],
   "source": [
    "# Let's create a regression model for our housing dataset\n",
    "from sklearn.datasets import fetch_california_housing\n",
    "from sklearn.ensemble import RandomForestRegressor\n",
    "from sklearn.model_selection import train_test_split\n",
    "\n",
    "np.random.seed(42)\n",
    "\n",
    "housing = fetch_california_housing()\n",
    "housing_df = pd.DataFrame(housing['data'], columns=housing['feature_names'])\n",
    "housing_df['target'] = housing['target']\n",
    "\n",
    "x = housing_df.drop('target', axis=1)\n",
    "y = housing_df['target']\n",
    "\n",
    "x_train, x_test, y_train, y_test = train_test_split(x, y, test_size=0.2)\n",
    "\n",
    "model = RandomForestRegressor()\n",
    "model.fit(x_train, y_train)"
   ]
  },
  {
   "cell_type": "markdown",
   "metadata": {},
   "source": [
    "___\n",
    "#### <span style=\"color:hotpink\">1. Estimator `score()` method</span>\n",
    "\n",
    "The `score()` function on every machine learning model, has a default evaluation metric:\n",
    "* Regression models return the coefficient of determination R^2 of the prediction\n",
    "* Classification models return the mean accuracy on the given test data and labels"
   ]
  },
  {
   "cell_type": "code",
   "execution_count": 4,
   "metadata": {},
   "outputs": [
    {
     "data": {
      "text/plain": [
       "0.8524590163934426"
      ]
     },
     "execution_count": 4,
     "metadata": {},
     "output_type": "execute_result"
    }
   ],
   "source": [
    "clf.score(X_test, Y_test) # accuracy"
   ]
  },
  {
   "cell_type": "markdown",
   "metadata": {},
   "source": [
    "> accuracy = (number of correct predictions)/(total number of predictions)"
   ]
  },
  {
   "cell_type": "code",
   "execution_count": 5,
   "metadata": {},
   "outputs": [
    {
     "data": {
      "text/plain": [
       "0.8066196804802649"
      ]
     },
     "execution_count": 5,
     "metadata": {},
     "output_type": "execute_result"
    }
   ],
   "source": [
    "model.score(x_test, y_test) # r^2"
   ]
  },
  {
   "cell_type": "markdown",
   "metadata": {},
   "source": [
    "> [r^2](https://www.khanacademy.org/math/ap-statistics/bivariate-data-ap/assessing-fit-least-squares-regression/a/r-squared-intuition) = amount of prediction error eliminated using least-squares regression"
   ]
  },
  {
   "cell_type": "markdown",
   "metadata": {},
   "source": [
    "___\n",
    "#### <span style=\"color:hotpink\">2. The `scoring` parameter</span>\n",
    "\n",
    "- Model-evaluation tools using cross-validation (such as `cross_val_score()` and `GridSearchCV()`) take a `scoring` parameter that controls what metric they apply to the estimators evaluated.\n",
    "- Example: `cross_val_score(clf, X, Y, cv=5, scoring='accuracy')`\n",
    "- You can designate the scoring parameter with any of the scoring objects found in the [documentation](https://scikit-learn.org/stable/modules/model_evaluation.html#scoring-parameter)."
   ]
  },
  {
   "cell_type": "markdown",
   "metadata": {},
   "source": [
    "#### <span style=\"color:pink\">Cross Validation</span>\n",
    "\n",
    "Cross validation evaluates models using multiple train-test-splits making it a better indication of how your model will perform.\n",
    "\n",
    "<img src='images/cross_validation.png' alt='' height='300'>\n",
    "\n",
    "Common scoring objects for classification:\n",
    "* accuracy (default)\n",
    "* precision\n",
    "* recall\n",
    "* f1\n",
    "\n",
    "Common Scoring objects for regression:\n",
    "* r2 (default)\n",
    "* neg_mean_squared_error\n",
    "* neg_mean_absolute_error\n",
    "\n",
    ">Note: The negative mean squared error (-MSE) is just the mean squared error (MSE) with a negative sign in front. This is used to emphasize that we are measuring an error value and ideally we would want a lower error, thus a lower score. It's just there preferred way of looking at the data. The same goes for the absolute error.\n",
    "\n",
    "> Note: The scoring parameter of `cross_val_score` is set to none by default. If `scoring = none`, it uses the default scoring parameter of our estimator."
   ]
  },
  {
   "cell_type": "code",
   "execution_count": 6,
   "metadata": {},
   "outputs": [],
   "source": [
    "# import cross_val_score()\n",
    "from sklearn.model_selection import cross_val_score"
   ]
  },
  {
   "cell_type": "code",
   "execution_count": 7,
   "metadata": {},
   "outputs": [
    {
     "name": "stdout",
     "output_type": "stream",
     "text": [
      "Cross validation for default: [0.81967213 0.90163934 0.83606557 0.78333333 0.78333333]\n",
      "The mean cross validated default is: 82.48%\n",
      "\n",
      "\n",
      "Cross validation for accuracy: [0.78688525 0.86885246 0.80327869 0.78333333 0.76666667]\n",
      "The mean cross validated accuracy is: 80.18%\n",
      "\n",
      "\n",
      "Cross validation for precision: [0.80555556 0.90322581 0.83870968 0.78787879 0.76923077]\n",
      "The mean cross validated precision is: 82.09%\n",
      "\n",
      "\n",
      "Cross validation for recall: [0.84848485 0.87878788 0.84848485 0.81818182 0.84848485]\n",
      "The mean cross validated recall is: 84.85%\n",
      "\n",
      "\n",
      "Cross validation for f1: [0.86956522 0.89230769 0.81818182 0.85294118 0.79452055]\n",
      "The mean cross validated f1 is: 84.55%\n"
     ]
    }
   ],
   "source": [
    "# Using cross_val_score on our classification model\n",
    "np.random.seed(42)\n",
    "\n",
    "cv_default = cross_val_score(clf, X, Y, cv=5, scoring=None)\n",
    "cv_accuracy = cross_val_score(clf, X, Y, cv=5, scoring='accuracy') # default\n",
    "cv_precision = cross_val_score(clf, X, Y, cv=5, scoring='precision')\n",
    "cv_recall = cross_val_score(clf, X, Y, cv=5, scoring='recall')\n",
    "cv_f1 = cross_val_score(clf, X, Y, cv=5, scoring='f1')\n",
    "\n",
    "print(f'Cross validation for default: {cv_default}')\n",
    "print(f'The mean cross validated default is: {np.mean(cv_default)*100:.2f}%')\n",
    "print('\\n')\n",
    "print(f'Cross validation for accuracy: {cv_accuracy}')\n",
    "print(f'The mean cross validated accuracy is: {np.mean(cv_accuracy)*100:.2f}%')\n",
    "print('\\n')\n",
    "print(f'Cross validation for precision: {cv_precision}')\n",
    "print(f'The mean cross validated precision is: {np.mean(cv_precision)*100:.2f}%')\n",
    "print('\\n')\n",
    "print(f'Cross validation for recall: {cv_recall}')\n",
    "print(f'The mean cross validated recall is: {np.mean(cv_recall)*100:.2f}%')\n",
    "print('\\n')\n",
    "print(f'Cross validation for f1: {cv_f1}')\n",
    "print(f'The mean cross validated f1 is: {np.mean(cv_f1)*100:.2f}%')"
   ]
  },
  {
   "cell_type": "markdown",
   "metadata": {},
   "source": [
    "<span style=\"color:pink\">Cross Validation on a Regression Model</span>"
   ]
  },
  {
   "cell_type": "code",
   "execution_count": 14,
   "metadata": {},
   "outputs": [
    {
     "name": "stdout",
     "output_type": "stream",
     "text": [
      "Cross validation for default: [0.51682354 0.70280719 0.74200859 0.61659773 0.68247339]\n",
      "The average cross validated default is: 65.21%\n",
      "\n",
      "\n",
      "Cross validation for r2: [0.52220599 0.7003946  0.74071892 0.61721416 0.6779728 ]\n",
      "The average cross validated r2 is: 65.17%\n",
      "\n",
      "\n",
      "Cross validation for Mean Squared Error (MSE): [-0.52564242 -0.34426975 -0.37057463 -0.44321949 -0.46310656]\n",
      "The average cross validated Mean Squared Error (MSE) is: -42.94%\n",
      "\n",
      "\n",
      "Cross validation for Mean Absolute Error (MAE): [-0.54620933 -0.40938149 -0.43813761 -0.46370412 -0.47310423]\n",
      "The average cross validated Mean Absolute Error (MAE) is: -46.61%\n"
     ]
    }
   ],
   "source": [
    "# Using cross_val_score on our regression model\n",
    "np.random.seed(42)\n",
    "\n",
    "cv_default = cross_val_score(model, x, y, cv=5, scoring=None)\n",
    "cv_r2 = cross_val_score(model, x, y, cv=5, scoring='r2') # default\n",
    "cv_mse = cross_val_score(model, x, y, cv=5, scoring='neg_mean_squared_error')\n",
    "cv_mae = cross_val_score(model, x, y, cv=5, scoring='neg_mean_absolute_error')\n",
    "\n",
    "print(f'Cross validation for default: {cv_default}')\n",
    "print(f'The average cross validated default is: {np.mean(cv_default)*100:.2f}%')\n",
    "print('\\n')\n",
    "print(f'Cross validation for r2: {cv_r2}')\n",
    "print(f'The average cross validated r2 is: {np.mean(cv_r2)*100:.2f}%')\n",
    "print('\\n')\n",
    "print(f'Cross validation for Mean Squared Error (MSE): {cv_mse}')\n",
    "print(f'The average cross validated Mean Squared Error (MSE) is: {np.mean(cv_mse)*100:.2f}%')\n",
    "print('\\n')\n",
    "print(f'Cross validation for Mean Absolute Error (MAE): {cv_mae}')\n",
    "print(f'The average cross validated Mean Absolute Error (MAE) is: {np.mean(cv_mae)*100:.2f}%')"
   ]
  },
  {
   "cell_type": "markdown",
   "metadata": {},
   "source": [
    "___\n",
    "#### <span style=\"color:hotpink\">3. Metric Functions</span>\n",
    "\n",
    "We can use the `sklearn.metrics` module to evaluate scikit-learn models/estimators."
   ]
  },
  {
   "cell_type": "markdown",
   "metadata": {},
   "source": [
    "#### <span style=\"color:orange\">Classification Evaluation Metrics</span>\n",
    "\n",
    "1. Confusion Matrix\n",
    "1. Area under ROC curve\n",
    "1. Classification report\n",
    "\n",
    ">Note: See [documentation](https://scikit-learn.org/stable/modules/model_evaluation.html) for more info.\n",
    "\n",
    ">Note: Some metrics require predictions or probability estimates."
   ]
  },
  {
   "cell_type": "code",
   "execution_count": 19,
   "metadata": {},
   "outputs": [],
   "source": [
    "# Probability estimates for classifier\n",
    "Y_probs = clf.predict_proba(X_test) # returns probability estimates\n",
    "Y_probs_positive = Y_probs[:, 1] # returns positive probability estimates (target=1)"
   ]
  },
  {
   "cell_type": "markdown",
   "metadata": {},
   "source": [
    "> `predict_proba()` - returns a 2D array containing the probabilities for negative and positive target variables, without making a prediction either way"
   ]
  },
  {
   "cell_type": "code",
   "execution_count": 20,
   "metadata": {},
   "outputs": [],
   "source": [
    "# Make some predictions using our classifier\n",
    "Y_preds = clf.predict(X_test)"
   ]
  },
  {
   "cell_type": "markdown",
   "metadata": {},
   "source": [
    "> `predict()` - returns a 1D array containing predictions for our target variable (Y_test in this case)"
   ]
  },
  {
   "cell_type": "markdown",
   "metadata": {},
   "source": [
    "<span style=\"color:orange\">Confusion Matrix</span>\n",
    "\n",
    "A confusion matrix is a quick way to compare the labels a model predicts and the actual labels it was supposed to predict."
   ]
  },
  {
   "cell_type": "code",
   "execution_count": 21,
   "metadata": {},
   "outputs": [
    {
     "name": "stdout",
     "output_type": "stream",
     "text": [
      "[[24  5]\n",
      " [ 4 28]]\n"
     ]
    }
   ],
   "source": [
    "# Import confusion_matrix\n",
    "from sklearn.metrics import confusion_matrix\n",
    "\n",
    "# Generate a confusion matrix\n",
    "conf_mat = confusion_matrix(Y_test, Y_preds)\n",
    "print(conf_mat)"
   ]
  },
  {
   "cell_type": "code",
   "execution_count": 22,
   "metadata": {},
   "outputs": [
    {
     "data": {
      "image/png": "[encoded data removed]",
      "text/plain": [
       "<Figure size 640x480 with 2 Axes>"
      ]
     },
     "metadata": {},
     "output_type": "display_data"
    }
   ],
   "source": [
    "from sklearn.metrics import ConfusionMatrixDisplay\n",
    "\n",
    "# from_estimator does not require predictions\n",
    "ConfusionMatrixDisplay.from_estimator(estimator=clf, X=X_test, y=Y_test); # need to rerun cell to get correct output!"
   ]
  },
  {
   "cell_type": "code",
   "execution_count": 23,
   "metadata": {},
   "outputs": [
    {
     "data": {
      "image/png": "[encoded data removed]",
      "text/plain": [
       "<Figure size 640x480 with 2 Axes>"
      ]
     },
     "metadata": {},
     "output_type": "display_data"
    }
   ],
   "source": [
    "# from_predictions requires predictions\n",
    "ConfusionMatrixDisplay.from_predictions(y_true=Y_test,\n",
    "                                        y_pred=Y_preds);"
   ]
  },
  {
   "cell_type": "markdown",
   "metadata": {},
   "source": [
    "<span style=\"color:orange\">Area under ROC curve</span>\n",
    "\n",
    "Receiver Operating Characteristic (ROC) curve\n",
    "- Compare model's true positive rate (tpr) vs false positive rate (fpr)\n",
    "- Used to identify the best threshold for making a decision\n",
    "\n",
    "\\\n",
    "Area Under the Curve (AUC)\n",
    "- Used to determine best categorization method\n",
    "\n",
    ">Note: Primarily used for binary classification.\n",
    "\n",
    ">Note: [Here](https://www.youtube.com/watch?v=4jRBRDbJemM) is a really helpful video!"
   ]
  },
  {
   "cell_type": "code",
   "execution_count": 24,
   "metadata": {},
   "outputs": [
    {
     "data": {
      "image/png": "[encoded data removed]",
      "text/plain": [
       "<Figure size 640x480 with 1 Axes>"
      ]
     },
     "metadata": {},
     "output_type": "display_data"
    },
    {
     "name": "stdout",
     "output_type": "stream",
     "text": [
      "Area Under the ROC curve: 0.93\n"
     ]
    }
   ],
   "source": [
    "# Import roc_curve\n",
    "from sklearn.metrics import roc_curve\n",
    "\n",
    "# Calculate fpr, tpr, and thresholds\n",
    "fpr, tpr, thresholds = roc_curve(Y_test, Y_probs_positive)\n",
    "\n",
    "# We can plot the roc curve\n",
    "import matplotlib.pyplot as plt\n",
    "\n",
    "plt.plot(fpr, tpr, color='orange', label='ROC') # ROC curve\n",
    "plt.plot([0, 1], [0, 1], color='darkblue', linestyle='--', label='Guessing') # baseline (ROC with no predictive power)\n",
    "\n",
    "plt.xlabel('False positive rate (fpr)')\n",
    "plt.ylabel('True positive rate (tpr)')\n",
    "plt.title('Receiver Operating Characteristic (ROC) Curve')\n",
    "plt.legend()\n",
    "plt.show()\n",
    "\n",
    "# Generate roc_auc_score\n",
    "from sklearn.metrics import roc_auc_score\n",
    "auc = roc_auc_score(Y_test, Y_probs_positive)\n",
    "\n",
    "print(f'Area Under the ROC curve: {auc:.2f}') # perfect score = 1.0"
   ]
  },
  {
   "cell_type": "markdown",
   "metadata": {},
   "source": [
    "<span style=\"color:green\">Brief Overview of ROC AND AUC</span>\n",
    "\n",
    "How a ROC and AUC are generated:\n",
    "1. Fit Logistic regression curve to the data\n",
    "2. Calculate fpr, tpr, and threshold values\n",
    "- Generate a confusion matrix at various threshold values (0-1)\n",
    "- Calculate tpr and fpr for each confusion matrix\n",
    "3. Plot tpr and fpr to generate ROC curve\n",
    "4. Calculate AUC as the area under the ROC curve\n",
    "\n",
    "\\\n",
    "<span style=\"color:green\">Calculating fpr, tpr, and threshold values:</span>\n",
    "\n",
    "The True Positive Rate (TPR) tells you what proportion of positive samples (target = 1) were correctly classified.\n",
    "\n",
    "`TPR = TP / (TP + FN)`\n",
    "\n",
    "The False Positive Rate(FPR) tells you what proportion of negative samples (target = 0) were incorrectly classified.\n",
    "\n",
    "`FPR = FP / (FP + TN) = 1 - Specificity`\n",
    "\n",
    "| |Predicted|Label|\n",
    "|:--:|:--:|:--:|\n",
    "|True|TN|FP|\n",
    "|Label|FN|TP|\n",
    "\n",
    "True Positive (TP) = model predicts 1 when truth is 1\n",
    "\n",
    "False Negative (FN) = model predicts 0 when truth is 1\n",
    "\n",
    "False Positive (FP) = model predicts 1 when truth is 0\n",
    "\n",
    "True Negative (TN) = model predicts 0 when truth is 0\n",
    "\n"
   ]
  },
  {
   "cell_type": "markdown",
   "metadata": {},
   "source": [
    "<span style=\"color:orange\">Classification Report</span>"
   ]
  },
  {
   "cell_type": "code",
   "execution_count": 25,
   "metadata": {},
   "outputs": [
    {
     "name": "stdout",
     "output_type": "stream",
     "text": [
      "              precision    recall  f1-score   support\n",
      "\n",
      "           0       0.86      0.83      0.84        29\n",
      "           1       0.85      0.88      0.86        32\n",
      "\n",
      "    accuracy                           0.85        61\n",
      "   macro avg       0.85      0.85      0.85        61\n",
      "weighted avg       0.85      0.85      0.85        61\n",
      "\n"
     ]
    }
   ],
   "source": [
    "from sklearn.metrics import classification_report\n",
    "print(classification_report(Y_test, Y_preds))"
   ]
  },
  {
   "cell_type": "code",
   "execution_count": null,
   "metadata": {},
   "outputs": [
    {
     "name": "stdout",
     "output_type": "stream",
     "text": [
      "Classifier metrics on the test set\n",
      "Accuracy: 85.25%\n",
      "Precision: 84.85%\n",
      "Recall: 87.50%\n",
      "F1: 86.15%\n"
     ]
    }
   ],
   "source": [
    "# Import classification evaluation metrics\n",
    "from sklearn.metrics import accuracy_score, precision_score, recall_score, f1_score\n",
    "\n",
    "# Evaluate the classifier\n",
    "print('Classifier metrics on the test set')\n",
    "print(f'Accuracy: {accuracy_score(Y_test, Y_preds)*100:.2f}%')\n",
    "print(f'Precision: {precision_score(Y_test, Y_preds)*100:.2f}%')\n",
    "print(f'Recall: {recall_score(Y_test, Y_preds)*100:.2f}%')\n",
    "print(f'F1: {f1_score(Y_test, Y_preds)*100:.2f}%')"
   ]
  },
  {
   "cell_type": "markdown",
   "metadata": {},
   "source": [
    "<span style=\"color:green\">**Classification report metrics summarize the confusion matrix:**</span>\n",
    "\n",
    "| |Predicted 0|Predicted 1|\n",
    "|:--:|:--:|:--:|\n",
    "|**True 0**|TN|FP|\n",
    "|**True 1**|FN|TP|\n",
    "\n",
    "<span style=\"color:green\">**Precision**</span>\n",
    "\n",
    "Percentage of predicted positive results (target=1) that were correctly classified.\n",
    "\n",
    "`Precision = TP / (TP + FP)`\n",
    "\n",
    "<span style=\"color:green\">**Recall / Sensitivity / TPR**</span>\n",
    "\n",
    "Percentage of actual positive results (target=1) that were correctly classified.\n",
    "\n",
    "`Recall = TP / (TP + FN)`\n",
    "\n",
    "<span style=\"color:green\">**F1 score**</span>\n",
    "\n",
    "Harmonic mean of Precision and Recall.\n",
    "\n",
    "`F1 = 2 / ((1/Recall) + (1/Precision)) = (2 * Precision * Recall) / (Precision + Recall)`\n",
    "\n",
    "<span style=\"color:green\">**Support**</span>\n",
    "\n",
    "Number of samples each metric was calculated on.\n",
    "\n",
    "`Support (0) = TN + FP`\n",
    "\n",
    "`Support (1) = FN + TP`\n",
    "\n",
    "<span style=\"color:green\">**Accuracy**</span>\n",
    "\n",
    "Percentage of correct predictions overall.\n",
    "\n",
    "`(TN + TP) / (TN + TP + FN + FP)`\n",
    "\n",
    "<span style=\"color:green\">**Macro avg**</span>\n",
    "\n",
    "Arithmetic mean of the individual class (precision, recall, etc.)\n",
    "\n",
    "`(P0 + P1) / 2`\n",
    "\n",
    "<span style=\"color:green\">**Weighted avg**</span>\n",
    "\n",
    "Average calculated with respect to the number of samples are in each class.\n",
    "\n",
    "`((P0 * S0) + (P1 * S1)) / (S0 + S1)`\n"
   ]
  },
  {
   "cell_type": "code",
   "execution_count": 26,
   "metadata": {},
   "outputs": [
    {
     "name": "stdout",
     "output_type": "stream",
     "text": [
      "P0: 0.86\n",
      "P1: 0.85\n",
      "\n",
      "\n",
      "R0: 0.83\n",
      "R1: 0.88\n",
      "\n",
      "\n",
      "F0: 0.84\n",
      "F1: 0.86\n",
      "\n",
      "\n",
      "S0: 29\n",
      "S1: 32\n",
      "\n",
      "\n",
      "A: 0.85\n",
      "\n",
      "\n",
      "mac_avg_P: 0.85\n",
      "mac_avg_R: 0.85\n",
      "mac_avg_F: 0.85\n",
      "\n",
      "\n",
      "weighted_avg_P: 0.85\n",
      "weighted_avg_R: 0.85\n",
      "weighted_avg_F: 0.85\n"
     ]
    }
   ],
   "source": [
    "# From our confusion matrix...\n",
    "TN = 24\n",
    "FP = 5\n",
    "FN = 4\n",
    "TP = 28\n",
    "\n",
    "P0 = TN / (TN + FN) # percent of negative predictions that were correctly classified\n",
    "P1 = TP / (TP + FP) # percent of positive predictions that were correctly classified\n",
    "\n",
    "R0 = TN / (TN + FP) # percent of actual positive labels that were correctly classified\n",
    "R1 = TP / (TP + FN) # percent of actual positive labels that were correctly classified\n",
    "\n",
    "F0 = (2 * P0 * R0) / (P0 + R0) # harmonic mean of P0 and R0\n",
    "F1 = (2 * P1 * R1) / (P1 + R1) # harmonic mean of P0 and R0\n",
    "\n",
    "S0 = TN + FP # total number of negative samples\n",
    "S1 = FN + TP # total number of positive samples\n",
    "\n",
    "A = (TN + TP) / (TN + TP + FN + FP) # percent of correct predictions overall\n",
    "\n",
    "mac_avg_P = (P0 + P1) / 2 # average precision\n",
    "mac_avg_R = (R0 + R1) / 2 # average recall\n",
    "mac_avg_F = (F0 + F1) / 2 # average f1-score\n",
    "\n",
    "weighted_avg_P = ((P0 * S0) + (P1 * S1)) / (S0 + S1) # average precision\n",
    "weighted_avg_R = ((R0 * S0) + (R1 * S1)) / (S0 + S1) # average recall\n",
    "weighted_avg_F = ((F0 * S0) + (F1 * S1)) / (S0 + S1) # average f1-score\n",
    "\n",
    "print(f'P0: {P0:.2f}')\n",
    "print(f'P1: {P1:.2f}')\n",
    "print('\\n')\n",
    "print(f'R0: {R0:.2f}')\n",
    "print(f'R1: {R1:.2f}')\n",
    "print('\\n')\n",
    "print(f'F0: {F0:.2f}')\n",
    "print(f'F1: {F1:.2f}')\n",
    "print('\\n')\n",
    "print(f'S0: {S0}')\n",
    "print(f'S1: {S1}')\n",
    "print('\\n')\n",
    "print(f'A: {A:.2f}')\n",
    "print('\\n')\n",
    "print(f'mac_avg_P: {mac_avg_P:.2f}')\n",
    "print(f'mac_avg_R: {mac_avg_R:.2f}')\n",
    "print(f'mac_avg_F: {mac_avg_F:.2f}')\n",
    "print('\\n')\n",
    "print(f'weighted_avg_P: {weighted_avg_P:.2f}')\n",
    "print(f'weighted_avg_R: {weighted_avg_R:.2f}')\n",
    "print(f'weighted_avg_F: {weighted_avg_F:.2f}')"
   ]
  },
  {
   "cell_type": "markdown",
   "metadata": {},
   "source": [
    "#### <span style=\"color:red\">Regression Evaluation Metrics</span>\n",
    "\n",
    "1. R^2 (pronounced r-squared) or coefficient of determination.\n",
    "1. Mean absolute error (MAE)\n",
    "1. Mean squared error (MSE)\n",
    "\n",
    ">Note: See [documentation](https://scikit-learn.org/stable/modules/model_evaluation.html#regression-metrics) for more info."
   ]
  },
  {
   "cell_type": "code",
   "execution_count": null,
   "metadata": {},
   "outputs": [],
   "source": [
    "# Import regression evaluation metrics\n",
    "from sklearn.metrics import r2_score, mean_absolute_error, mean_squared_error\n",
    "\n",
    "# Make some predictions using our regression model\n",
    "y_preds = model.predict(x_test)\n",
    "\n",
    "#Evaluate the regression model\n",
    "print('Regression model metrics on the test set')\n",
    "print(f'R^2: {r2_score(y_test, y_preds)*100:.2f}%')\n",
    "print(f'MAE: {mean_absolute_error(y_test, y_preds)*100:.2f}%') # mean absolute difference\n",
    "print(f'MSE: {mean_squared_error(y_test, y_preds)*100:.2f}%') # mean squared difference"
   ]
  }
 ],
 "metadata": {
  "kernelspec": {
   "display_name": "base",
   "language": "python",
   "name": "python3"
  },
  "language_info": {
   "codemirror_mode": {
    "name": "ipython",
    "version": 3
   },
   "file_extension": ".py",
   "mimetype": "text/x-python",
   "name": "python",
   "nbconvert_exporter": "python",
   "pygments_lexer": "ipython3",
   "version": "3.8.17"
  }
 },
 "nbformat": 4,
 "nbformat_minor": 2
}
